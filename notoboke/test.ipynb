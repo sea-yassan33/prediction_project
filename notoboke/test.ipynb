{
 "cells": [
  {
   "cell_type": "code",
   "execution_count": 16,
   "metadata": {},
   "outputs": [],
   "source": [
    "# モジュールのインポート\n",
    "import math\n",
    "import pandas as pd\n",
    "# Ridge Regressionモデルクラスの読み込み\n",
    "from sklearn.linear_model import Ridge\n",
    "from sklearn.metrics import mean_absolute_error\n",
    "# scikit-learnの準備\n",
    "from sklearn.model_selection import train_test_split\n",
    "# 線形回帰で学習\n",
    "from sklearn import linear_model"
   ]
  },
  {
   "cell_type": "code",
   "execution_count": 3,
   "metadata": {},
   "outputs": [
    {
     "data": {
      "text/html": [
       "<div>\n",
       "<style scoped>\n",
       "    .dataframe tbody tr th:only-of-type {\n",
       "        vertical-align: middle;\n",
       "    }\n",
       "\n",
       "    .dataframe tbody tr th {\n",
       "        vertical-align: top;\n",
       "    }\n",
       "\n",
       "    .dataframe thead th {\n",
       "        text-align: right;\n",
       "    }\n",
       "</style>\n",
       "<table border=\"1\" class=\"dataframe\">\n",
       "  <thead>\n",
       "    <tr style=\"text-align: right;\">\n",
       "      <th></th>\n",
       "      <th>rent_price</th>\n",
       "      <th>house_area</th>\n",
       "      <th>year_from_built</th>\n",
       "      <th>distance</th>\n",
       "      <th>built_date</th>\n",
       "      <th>balcony_area</th>\n",
       "      <th>house_structure</th>\n",
       "      <th>floor</th>\n",
       "      <th>total_floor</th>\n",
       "    </tr>\n",
       "  </thead>\n",
       "  <tbody>\n",
       "    <tr>\n",
       "      <th>0</th>\n",
       "      <td>81000.0</td>\n",
       "      <td>22.627647</td>\n",
       "      <td>21</td>\n",
       "      <td>360.0</td>\n",
       "      <td>2001-04-01</td>\n",
       "      <td>0.0</td>\n",
       "      <td>RC</td>\n",
       "      <td>4.0</td>\n",
       "      <td>10.0</td>\n",
       "    </tr>\n",
       "    <tr>\n",
       "      <th>1</th>\n",
       "      <td>119000.0</td>\n",
       "      <td>29.487423</td>\n",
       "      <td>11</td>\n",
       "      <td>720.0</td>\n",
       "      <td>2011-03-01</td>\n",
       "      <td>0.0</td>\n",
       "      <td>RC</td>\n",
       "      <td>3.0</td>\n",
       "      <td>10.0</td>\n",
       "    </tr>\n",
       "    <tr>\n",
       "      <th>2</th>\n",
       "      <td>65000.0</td>\n",
       "      <td>13.960667</td>\n",
       "      <td>32</td>\n",
       "      <td>640.0</td>\n",
       "      <td>1990-03-01</td>\n",
       "      <td>0.0</td>\n",
       "      <td>RC</td>\n",
       "      <td>3.0</td>\n",
       "      <td>6.0</td>\n",
       "    </tr>\n",
       "    <tr>\n",
       "      <th>3</th>\n",
       "      <td>230000.0</td>\n",
       "      <td>79.860208</td>\n",
       "      <td>13</td>\n",
       "      <td>480.0</td>\n",
       "      <td>2009-03-01</td>\n",
       "      <td>0.0</td>\n",
       "      <td>RC</td>\n",
       "      <td>15.0</td>\n",
       "      <td>29.0</td>\n",
       "    </tr>\n",
       "    <tr>\n",
       "      <th>4</th>\n",
       "      <td>102000.0</td>\n",
       "      <td>34.471313</td>\n",
       "      <td>23</td>\n",
       "      <td>320.0</td>\n",
       "      <td>1999-05-01</td>\n",
       "      <td>0.0</td>\n",
       "      <td>RC</td>\n",
       "      <td>2.0</td>\n",
       "      <td>7.0</td>\n",
       "    </tr>\n",
       "  </tbody>\n",
       "</table>\n",
       "</div>"
      ],
      "text/plain": [
       "   rent_price  house_area  year_from_built  distance  built_date  \\\n",
       "0     81000.0   22.627647               21     360.0  2001-04-01   \n",
       "1    119000.0   29.487423               11     720.0  2011-03-01   \n",
       "2     65000.0   13.960667               32     640.0  1990-03-01   \n",
       "3    230000.0   79.860208               13     480.0  2009-03-01   \n",
       "4    102000.0   34.471313               23     320.0  1999-05-01   \n",
       "\n",
       "   balcony_area house_structure  floor  total_floor  \n",
       "0           0.0              RC    4.0         10.0  \n",
       "1           0.0              RC    3.0         10.0  \n",
       "2           0.0              RC    3.0          6.0  \n",
       "3           0.0              RC   15.0         29.0  \n",
       "4           0.0              RC    2.0          7.0  "
      ]
     },
     "execution_count": 3,
     "metadata": {},
     "output_type": "execute_result"
    }
   ],
   "source": [
    "#データの読み込みと観測\n",
    "df = pd.read_csv('./data/train.csv')\n",
    "df.head()"
   ]
  },
  {
   "cell_type": "code",
   "execution_count": 4,
   "metadata": {},
   "outputs": [
    {
     "data": {
      "text/plain": [
       "(7496, 9)"
      ]
     },
     "execution_count": 4,
     "metadata": {},
     "output_type": "execute_result"
    }
   ],
   "source": [
    "df.shape"
   ]
  },
  {
   "cell_type": "markdown",
   "metadata": {},
   "source": [
    "## データ観測から予測したい値を決める\n",
    "- 予測したい値：rent_price(賃貸価格)\n",
    "\n",
    "## 特徴量を決める\n",
    "- house_area (広さ)\n",
    "- distance (駅からの距離)"
   ]
  },
  {
   "cell_type": "code",
   "execution_count": 5,
   "metadata": {},
   "outputs": [],
   "source": [
    "#特徴量と正解データの設定\n",
    "\n",
    "## 使いたい特徴量\n",
    "feature_cols = ['house_area','distance']\n",
    "\n",
    "## 予測したい列\n",
    "target_col = 'rent_price'\n",
    "\n",
    "x = df[feature_cols]\n",
    "y = df[target_col]"
   ]
  },
  {
   "cell_type": "code",
   "execution_count": 6,
   "metadata": {},
   "outputs": [
    {
     "data": {
      "text/html": [
       "<style>#sk-container-id-1 {color: black;}#sk-container-id-1 pre{padding: 0;}#sk-container-id-1 div.sk-toggleable {background-color: white;}#sk-container-id-1 label.sk-toggleable__label {cursor: pointer;display: block;width: 100%;margin-bottom: 0;padding: 0.3em;box-sizing: border-box;text-align: center;}#sk-container-id-1 label.sk-toggleable__label-arrow:before {content: \"▸\";float: left;margin-right: 0.25em;color: #696969;}#sk-container-id-1 label.sk-toggleable__label-arrow:hover:before {color: black;}#sk-container-id-1 div.sk-estimator:hover label.sk-toggleable__label-arrow:before {color: black;}#sk-container-id-1 div.sk-toggleable__content {max-height: 0;max-width: 0;overflow: hidden;text-align: left;background-color: #f0f8ff;}#sk-container-id-1 div.sk-toggleable__content pre {margin: 0.2em;color: black;border-radius: 0.25em;background-color: #f0f8ff;}#sk-container-id-1 input.sk-toggleable__control:checked~div.sk-toggleable__content {max-height: 200px;max-width: 100%;overflow: auto;}#sk-container-id-1 input.sk-toggleable__control:checked~label.sk-toggleable__label-arrow:before {content: \"▾\";}#sk-container-id-1 div.sk-estimator input.sk-toggleable__control:checked~label.sk-toggleable__label {background-color: #d4ebff;}#sk-container-id-1 div.sk-label input.sk-toggleable__control:checked~label.sk-toggleable__label {background-color: #d4ebff;}#sk-container-id-1 input.sk-hidden--visually {border: 0;clip: rect(1px 1px 1px 1px);clip: rect(1px, 1px, 1px, 1px);height: 1px;margin: -1px;overflow: hidden;padding: 0;position: absolute;width: 1px;}#sk-container-id-1 div.sk-estimator {font-family: monospace;background-color: #f0f8ff;border: 1px dotted black;border-radius: 0.25em;box-sizing: border-box;margin-bottom: 0.5em;}#sk-container-id-1 div.sk-estimator:hover {background-color: #d4ebff;}#sk-container-id-1 div.sk-parallel-item::after {content: \"\";width: 100%;border-bottom: 1px solid gray;flex-grow: 1;}#sk-container-id-1 div.sk-label:hover label.sk-toggleable__label {background-color: #d4ebff;}#sk-container-id-1 div.sk-serial::before {content: \"\";position: absolute;border-left: 1px solid gray;box-sizing: border-box;top: 0;bottom: 0;left: 50%;z-index: 0;}#sk-container-id-1 div.sk-serial {display: flex;flex-direction: column;align-items: center;background-color: white;padding-right: 0.2em;padding-left: 0.2em;position: relative;}#sk-container-id-1 div.sk-item {position: relative;z-index: 1;}#sk-container-id-1 div.sk-parallel {display: flex;align-items: stretch;justify-content: center;background-color: white;position: relative;}#sk-container-id-1 div.sk-item::before, #sk-container-id-1 div.sk-parallel-item::before {content: \"\";position: absolute;border-left: 1px solid gray;box-sizing: border-box;top: 0;bottom: 0;left: 50%;z-index: -1;}#sk-container-id-1 div.sk-parallel-item {display: flex;flex-direction: column;z-index: 1;position: relative;background-color: white;}#sk-container-id-1 div.sk-parallel-item:first-child::after {align-self: flex-end;width: 50%;}#sk-container-id-1 div.sk-parallel-item:last-child::after {align-self: flex-start;width: 50%;}#sk-container-id-1 div.sk-parallel-item:only-child::after {width: 0;}#sk-container-id-1 div.sk-dashed-wrapped {border: 1px dashed gray;margin: 0 0.4em 0.5em 0.4em;box-sizing: border-box;padding-bottom: 0.4em;background-color: white;}#sk-container-id-1 div.sk-label label {font-family: monospace;font-weight: bold;display: inline-block;line-height: 1.2em;}#sk-container-id-1 div.sk-label-container {text-align: center;}#sk-container-id-1 div.sk-container {/* jupyter's `normalize.less` sets `[hidden] { display: none; }` but bootstrap.min.css set `[hidden] { display: none !important; }` so we also need the `!important` here to be able to override the default hidden behavior on the sphinx rendered scikit-learn.org. See: https://github.com/scikit-learn/scikit-learn/issues/21755 */display: inline-block !important;position: relative;}#sk-container-id-1 div.sk-text-repr-fallback {display: none;}</style><div id=\"sk-container-id-1\" class=\"sk-top-container\"><div class=\"sk-text-repr-fallback\"><pre>LinearRegression()</pre><b>In a Jupyter environment, please rerun this cell to show the HTML representation or trust the notebook. <br />On GitHub, the HTML representation is unable to render, please try loading this page with nbviewer.org.</b></div><div class=\"sk-container\" hidden><div class=\"sk-item\"><div class=\"sk-estimator sk-toggleable\"><input class=\"sk-toggleable__control sk-hidden--visually\" id=\"sk-estimator-id-1\" type=\"checkbox\" checked><label for=\"sk-estimator-id-1\" class=\"sk-toggleable__label sk-toggleable__label-arrow\">LinearRegression</label><div class=\"sk-toggleable__content\"><pre>LinearRegression()</pre></div></div></div></div></div>"
      ],
      "text/plain": [
       "LinearRegression()"
      ]
     },
     "execution_count": 6,
     "metadata": {},
     "output_type": "execute_result"
    }
   ],
   "source": [
    "# 訓練データとテストデータに8:2で分割\n",
    "X_train, X_test, y_train, y_test = train_test_split(x, y, test_size=0.2, random_state=0)\n",
    "# モデル学習\n",
    "model = linear_model.LinearRegression()\n",
    "model.fit(X_train, y_train)"
   ]
  },
  {
   "cell_type": "code",
   "execution_count": 8,
   "metadata": {},
   "outputs": [
    {
     "name": "stdout",
     "output_type": "stream",
     "text": [
      "0.5727874981126901\n",
      "0.6006123880504818\n"
     ]
    }
   ],
   "source": [
    "# 訓練データを用いた評価\n",
    "print(model.score(X_train, y_train))\n",
    "# テストデータを用いた評価\n",
    "print(model.score(X_test, y_test))"
   ]
  },
  {
   "cell_type": "code",
   "execution_count": 9,
   "metadata": {},
   "outputs": [
    {
     "data": {
      "text/html": [
       "<div>\n",
       "<style scoped>\n",
       "    .dataframe tbody tr th:only-of-type {\n",
       "        vertical-align: middle;\n",
       "    }\n",
       "\n",
       "    .dataframe tbody tr th {\n",
       "        vertical-align: top;\n",
       "    }\n",
       "\n",
       "    .dataframe thead th {\n",
       "        text-align: right;\n",
       "    }\n",
       "</style>\n",
       "<table border=\"1\" class=\"dataframe\">\n",
       "  <thead>\n",
       "    <tr style=\"text-align: right;\">\n",
       "      <th></th>\n",
       "      <th>rent_price</th>\n",
       "      <th>pred_rent_price</th>\n",
       "    </tr>\n",
       "  </thead>\n",
       "  <tbody>\n",
       "    <tr>\n",
       "      <th>0</th>\n",
       "      <td>81000.0</td>\n",
       "      <td>93129.134332</td>\n",
       "    </tr>\n",
       "    <tr>\n",
       "      <th>1</th>\n",
       "      <td>119000.0</td>\n",
       "      <td>102786.314623</td>\n",
       "    </tr>\n",
       "    <tr>\n",
       "      <th>2</th>\n",
       "      <td>65000.0</td>\n",
       "      <td>75007.353704</td>\n",
       "    </tr>\n",
       "    <tr>\n",
       "      <th>3</th>\n",
       "      <td>230000.0</td>\n",
       "      <td>196933.058418</td>\n",
       "    </tr>\n",
       "    <tr>\n",
       "      <th>4</th>\n",
       "      <td>102000.0</td>\n",
       "      <td>115132.584027</td>\n",
       "    </tr>\n",
       "  </tbody>\n",
       "</table>\n",
       "</div>"
      ],
      "text/plain": [
       "   rent_price  pred_rent_price\n",
       "0     81000.0     93129.134332\n",
       "1    119000.0    102786.314623\n",
       "2     65000.0     75007.353704\n",
       "3    230000.0    196933.058418\n",
       "4    102000.0    115132.584027"
      ]
     },
     "execution_count": 9,
     "metadata": {},
     "output_type": "execute_result"
    }
   ],
   "source": [
    "# 学習したモデルを用いて予想\n",
    "df['pred_rent_price'] = model.predict(x)\n",
    "# 予想値と正解値のみ絞って比較\n",
    "df[['rent_price','pred_rent_price']].head()"
   ]
  },
  {
   "cell_type": "code",
   "execution_count": 21,
   "metadata": {},
   "outputs": [
    {
     "name": "stdout",
     "output_type": "stream",
     "text": [
      "誤差範囲は17,760.0円です。\n"
     ]
    }
   ],
   "source": [
    "# MAE(平均絶対値誤差)\n",
    "# 正解値と予測値の差の絶対値で平均値を取ったもの\n",
    "\n",
    "err_range = mean_absolute_error(df['rent_price'],df['pred_rent_price'])\n",
    "print(f'誤差範囲は{math.floor(err_range):,.1f}円です。')"
   ]
  },
  {
   "cell_type": "code",
   "execution_count": 13,
   "metadata": {},
   "outputs": [
    {
     "data": {
      "text/html": [
       "<div>\n",
       "<style scoped>\n",
       "    .dataframe tbody tr th:only-of-type {\n",
       "        vertical-align: middle;\n",
       "    }\n",
       "\n",
       "    .dataframe tbody tr th {\n",
       "        vertical-align: top;\n",
       "    }\n",
       "\n",
       "    .dataframe thead th {\n",
       "        text-align: right;\n",
       "    }\n",
       "</style>\n",
       "<table border=\"1\" class=\"dataframe\">\n",
       "  <thead>\n",
       "    <tr style=\"text-align: right;\">\n",
       "      <th></th>\n",
       "      <th>house_area</th>\n",
       "      <th>distance</th>\n",
       "    </tr>\n",
       "  </thead>\n",
       "  <tbody>\n",
       "    <tr>\n",
       "      <th>0</th>\n",
       "      <td>50.5</td>\n",
       "      <td>500</td>\n",
       "    </tr>\n",
       "  </tbody>\n",
       "</table>\n",
       "</div>"
      ],
      "text/plain": [
       "   house_area  distance\n",
       "0        50.5       500"
      ]
     },
     "execution_count": 13,
     "metadata": {},
     "output_type": "execute_result"
    }
   ],
   "source": [
    "# フォームからデータを取得\n",
    "area_form = 50.5\n",
    "distance = 500\n",
    "\n",
    "# カラムデータを作成\n",
    "data = {'house_area': [area_form],\n",
    "        'distance': [distance]}\n",
    "\n",
    "# データフレームを作成\n",
    "df_form = pd.DataFrame(data)\n",
    "df_form\n"
   ]
  },
  {
   "cell_type": "code",
   "execution_count": 14,
   "metadata": {},
   "outputs": [
    {
     "data": {
      "text/html": [
       "<div>\n",
       "<style scoped>\n",
       "    .dataframe tbody tr th:only-of-type {\n",
       "        vertical-align: middle;\n",
       "    }\n",
       "\n",
       "    .dataframe tbody tr th {\n",
       "        vertical-align: top;\n",
       "    }\n",
       "\n",
       "    .dataframe thead th {\n",
       "        text-align: right;\n",
       "    }\n",
       "</style>\n",
       "<table border=\"1\" class=\"dataframe\">\n",
       "  <thead>\n",
       "    <tr style=\"text-align: right;\">\n",
       "      <th></th>\n",
       "      <th>house_area</th>\n",
       "      <th>distance</th>\n",
       "      <th>pred_rent_price</th>\n",
       "    </tr>\n",
       "  </thead>\n",
       "  <tbody>\n",
       "    <tr>\n",
       "      <th>0</th>\n",
       "      <td>50.5</td>\n",
       "      <td>500</td>\n",
       "      <td>143024.713928</td>\n",
       "    </tr>\n",
       "  </tbody>\n",
       "</table>\n",
       "</div>"
      ],
      "text/plain": [
       "   house_area  distance  pred_rent_price\n",
       "0        50.5       500    143024.713928"
      ]
     },
     "execution_count": 14,
     "metadata": {},
     "output_type": "execute_result"
    }
   ],
   "source": [
    "# フォームから取得したデータから特徴量を抽出\n",
    "x_form = df_form[feature_cols]\n",
    "\n",
    "# 学習したモデルを用いて予想\n",
    "df_form['pred_rent_price'] = model.predict(x_form)\n",
    "df_form"
   ]
  },
  {
   "cell_type": "code",
   "execution_count": 18,
   "metadata": {},
   "outputs": [
    {
     "name": "stdout",
     "output_type": "stream",
     "text": [
      "予測された価格は143,024円です。\n"
     ]
    }
   ],
   "source": [
    "# 予測された値を取り出す\n",
    "result = df_form.loc[0, 'pred_rent_price']\n",
    "print(f'予測された価格は{math.floor(result):,}円です。')"
   ]
  },
  {
   "cell_type": "code",
   "execution_count": 28,
   "metadata": {},
   "outputs": [],
   "source": [
    "#djnago用の関数\n",
    "\n",
    "#データの読み込みと観測\n",
    "df = pd.read_csv('./data/train.csv')\n",
    "\n",
    "#特徴量と正解データの設定\n",
    "## 使いたい特徴量\n",
    "feature_cols = ['house_area','distance']\n",
    "## 予測したい列\n",
    "target_col = 'rent_price'\n",
    "x = df[feature_cols]\n",
    "y = df[target_col]\n",
    "\n",
    "# 訓練データとテストデータに8:2で分割\n",
    "X_train, X_test, y_train, y_test = train_test_split(x, y, test_size=0.2, random_state=0)\n",
    "# モデル学習\n",
    "model = linear_model.LinearRegression()\n",
    "model.fit(X_train, y_train)\n",
    "# 学習したモデルを用いて予想\n",
    "df['pred_rent_price'] = model.predict(x)\n",
    "\n",
    "# 訓練データを用いた評価\n",
    "model_ases = model.score(X_train, y_train)\n",
    "\n",
    "# MAE(平均絶対値誤差)\n",
    "## 正解値と予測値の差の絶対値で平均値を取ったもの\n",
    "err_range = mean_absolute_error(df['rent_price'],df['pred_rent_price'])\n",
    "\n",
    "# フォームからデータを取得\n",
    "area_form = 50.5\n",
    "distance = 500\n",
    "# カラムデータを作成\n",
    "data = {'house_area': [area_form],\n",
    "        'distance': [distance]}\n",
    "# データフレームを作成\n",
    "df_form = pd.DataFrame(data)\n",
    "\n",
    "# フォームから取得したデータから特徴量を抽出\n",
    "x_form = df_form[feature_cols]\n",
    "# 学習したモデルを用いて予想\n",
    "df_form['pred_rent_price'] = model.predict(x_form)\n",
    "# 予測された値を取り出す\n",
    "prediction = df_form.loc[0, 'pred_rent_price']\n"
   ]
  },
  {
   "cell_type": "code",
   "execution_count": 40,
   "metadata": {},
   "outputs": [
    {
     "name": "stdout",
     "output_type": "stream",
     "text": [
      "モデルの評価:0.5728\n",
      "誤差範囲:17,760円\n",
      "入力された賃貸の広さ:50.5㎡\n",
      "入力された駅からの距離:500m\n",
      "予測された家賃価格(/月):¥143,024\n"
     ]
    }
   ],
   "source": [
    "print(f'モデルの評価:{model_ases:.4f}')\n",
    "print(f'誤差範囲:{math.floor(err_range):,}円')\n",
    "print(f'入力された賃貸の広さ:{area_form}㎡')\n",
    "print(f'入力された駅からの距離:{distance}m')\n",
    "print(f'予測された家賃価格(/月):¥{math.floor(result):,}')"
   ]
  },
  {
   "cell_type": "code",
   "execution_count": null,
   "metadata": {},
   "outputs": [],
   "source": []
  }
 ],
 "metadata": {
  "kernelspec": {
   "display_name": "Python 3",
   "language": "python",
   "name": "python3"
  },
  "language_info": {
   "codemirror_mode": {
    "name": "ipython",
    "version": 3
   },
   "file_extension": ".py",
   "mimetype": "text/x-python",
   "name": "python",
   "nbconvert_exporter": "python",
   "pygments_lexer": "ipython3",
   "version": "3.10.11"
  }
 },
 "nbformat": 4,
 "nbformat_minor": 2
}
